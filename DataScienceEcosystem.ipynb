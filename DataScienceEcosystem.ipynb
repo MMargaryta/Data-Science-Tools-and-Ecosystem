{
 "cells": [
  {
   "cell_type": "markdown",
   "id": "89e26a6f-13b3-459e-bc37-10361f51d812",
   "metadata": {},
   "source": [
    "<h1> Data Science Tools and Ecosystem </h1>"
   ]
  },
  {
   "cell_type": "markdown",
   "id": "7a034e9e-af36-4060-82a8-d3fa9297ee6c",
   "metadata": {},
   "source": [
    "In this notebook, Data Science Tools and Ecosystem are summarized."
   ]
  },
  {
   "cell_type": "markdown",
   "id": "d9be186d-3d72-4c5e-ab41-d7437077ca49",
   "metadata": {},
   "source": [
    "<b> Objectives: </b>\n",
    "<ul>\n",
    "  <li>Popular languages</li>\n",
    "  <li>Commonly used libraries</li>\n",
    "  <li>Tools</li>\n",
    "</ul>"
   ]
  },
  {
   "cell_type": "markdown",
   "id": "bf7c4d51-d257-4ae4-ab3d-b4c3e7e2eaad",
   "metadata": {},
   "source": [
    "Some of the popular languages that Data Scientists use are:\n",
    "<ol>\n",
    "  <li>Python</li>\n",
    "  <li>R</li>\n",
    "  <li>SQL</li>\n",
    "</ol>"
   ]
  },
  {
   "cell_type": "markdown",
   "id": "adfaf9b7-d87e-4eae-8c1b-f33dd61d2182",
   "metadata": {},
   "source": [
    "Some of the commonly used libraries used by Data Scientists include:\n",
    "<ol>\n",
    "  <li>Matplotlib</li>\n",
    "  <li>Panadas</li>\n",
    "  <li>NumPy</li>\n",
    "</ol>"
   ]
  },
  {
   "cell_type": "markdown",
   "id": "a1bf0750-d8af-491a-b60e-8b0378b527e1",
   "metadata": {},
   "source": [
    "<table>\n",
    "  <tr>\n",
    "    <th>Data Science Tools</th>\n",
    "    </tr>\n",
    "  <tr>\n",
    "    <td>Jupiter Notebook</td>\n",
    "    </tr>\n",
    "  <tr>\n",
    "    <td>RStudio</td>\n",
    "    </tr>\n",
    "   <tr>\n",
    "    <td>Apache Zeppelin</td>\n",
    "    </tr>\n",
    "</table>"
   ]
  },
  {
   "cell_type": "markdown",
   "id": "1ebe4382-2741-4b23-9590-3c8990316766",
   "metadata": {},
   "source": [
    "<h3> Below are a few examples of evaluating arithmetic expressions in Python </h3>"
   ]
  },
  {
   "cell_type": "code",
   "execution_count": 2,
   "id": "61d6e855-f491-4b83-8e3f-cc9305b1c300",
   "metadata": {},
   "outputs": [
    {
     "data": {
      "text/plain": [
       "17"
      ]
     },
     "execution_count": 2,
     "metadata": {},
     "output_type": "execute_result"
    }
   ],
   "source": [
    "## This is a simple arithmetic expression to multiply then add integers.\n",
    "(3*4)+5"
   ]
  },
  {
   "cell_type": "code",
   "execution_count": 3,
   "id": "49c209b7-6d13-48f7-91b6-ad16e0886171",
   "metadata": {},
   "outputs": [
    {
     "data": {
      "text/plain": [
       "3.3333333333333335"
      ]
     },
     "execution_count": 3,
     "metadata": {},
     "output_type": "execute_result"
    }
   ],
   "source": [
    "## This will convert 200 minutes to hours by diving by 60\n",
    "200/60"
   ]
  },
  {
   "cell_type": "markdown",
   "id": "9ed1452b-4935-4c18-b6da-14cdfa17c303",
   "metadata": {},
   "source": [
    "<h2> Author </h2>\n",
    "Margaryta Myronyuk"
   ]
  },
  {
   "cell_type": "code",
   "execution_count": null,
   "id": "42cab4d2-3d3c-4a65-b236-97c85e6e4e50",
   "metadata": {},
   "outputs": [],
   "source": []
  }
 ],
 "metadata": {
  "kernelspec": {
   "display_name": "Python 3 (ipykernel)",
   "language": "python",
   "name": "python3"
  },
  "language_info": {
   "codemirror_mode": {
    "name": "ipython",
    "version": 3
   },
   "file_extension": ".py",
   "mimetype": "text/x-python",
   "name": "python",
   "nbconvert_exporter": "python",
   "pygments_lexer": "ipython3",
   "version": "3.11.9"
  }
 },
 "nbformat": 4,
 "nbformat_minor": 5
}
